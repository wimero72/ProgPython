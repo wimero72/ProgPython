{
  "cells": [
    {
      "cell_type": "markdown",
      "metadata": {
        "id": "view-in-github",
        "colab_type": "text"
      },
      "source": [
        "<a href=\"https://colab.research.google.com/github/wimero72/ProgPython/blob/main/PYTC1M2P01_Activity_Workingwithalist.ipynb\" target=\"_parent\"><img src=\"https://colab.research.google.com/assets/colab-badge.svg\" alt=\"Open In Colab\"/></a>"
      ]
    },
    {
      "cell_type": "markdown",
      "id": "f09a865b-c262-4120-b71d-d4ba645e26eb",
      "metadata": {
        "id": "f09a865b-c262-4120-b71d-d4ba645e26eb"
      },
      "source": [
        "## How to Interact with this Jupyter Notebook\n",
        "\n",
        "In this activity, you will use a Jupyter Notebook, which integrates both text and code. The gray boxes contain executable code, which you will run in order to view its output. The text in between the code provides instructions."
      ]
    },
    {
      "cell_type": "markdown",
      "id": "cafeb2a2-b926-4cf7-8403-56af64e566fa",
      "metadata": {
        "id": "cafeb2a2-b926-4cf7-8403-56af64e566fa"
      },
      "source": [
        "## Scenario: Never Forget the Milk Again: Your Python-Powered Grocery List\n",
        "\n",
        "Imagine you're heading to the grocery store, but you keep forgetting items you need. It's frustrating and leads to multiple trips! Wouldn't it be great to have a digital helper to keep track of your shopping list?\n",
        "\n",
        "That's where Python comes in. You'll build a simple program that lets you add items to your virtual grocery list, load items from a CSV file, and manage your shopping list efficiently. No more forgotten milk or eggs!\n",
        "\n",
        "### Why Lists are Perfect for Grocery Lists:\n",
        "\n",
        "* **Ordered Collection:** Lists maintain the order in which you add items, which can be helpful for prioritizing your shopping trip.\n",
        "* **Mutable:** You can easily add, remove, or modify items as your needs change.\n",
        "* **Flexible:** Lists can store items of different types (e.g., strings for item names, numbers for quantities).\n",
        "\n",
        "## Activity Summary:\n",
        "\n",
        "In this activity, you will:\n",
        "\n",
        "* Create and manage a dynamic grocery list using Python lists.\n",
        "* Load items from a CSV file into your grocery list.\n",
        "* Add items to the list using the `append()` method.\n",
        "* Remove items from the list using the `remove()` method."
      ]
    },
    {
      "cell_type": "markdown",
      "id": "e308c316-f433-4b81-b8d1-8ce8348a7f2a",
      "metadata": {
        "id": "e308c316-f433-4b81-b8d1-8ce8348a7f2a"
      },
      "source": [
        "For this activity, you will have access to a CSV file named `grocery_list.csv` that has already been created for you and contains some initial items for our grocery list.\n",
        "\n",
        "Begin by running the cell below, which imports the pandas library, loads the csv file named `grocery_list.csv`, and then prints the output."
      ]
    },
    {
      "cell_type": "code",
      "execution_count": null,
      "id": "51c7f2bc-a313-4076-8808-01ece7ac1ae8",
      "metadata": {
        "id": "51c7f2bc-a313-4076-8808-01ece7ac1ae8"
      },
      "outputs": [],
      "source": [
        "# Import a powerful tool called \"pandas\" that you'll use to work with and organize data easily\n",
        "import pandas as pd\n",
        "import os\n",
        "\n",
        "file_name = 'grocery_list.csv'\n",
        "\n",
        "if os.path.exists(file_name):\n",
        "    # Load the grocery list from the CSV file\n",
        "    grocery_list_df = pd.read_csv(file_name)\n",
        "\n",
        "    # Extract the items from the DataFrame and store them in a list\n",
        "    grocery_list = grocery_list_df['item'].tolist()\n",
        "\n",
        "    # Print the grocery list and inspect the output\n",
        "    print(grocery_list)\n",
        "else:\n",
        "    print(f\"Error: The file '{file_name}' was not found in the current directory.\")\n",
        "    print(\"Please ensure you have followed the instructions on the Coursera site to extract the files from the zip archive.\")\n"
      ]
    },
    {
      "cell_type": "markdown",
      "id": "c631c095-59d2-40dc-a3f3-7f0c4752833f",
      "metadata": {
        "id": "c631c095-59d2-40dc-a3f3-7f0c4752833f"
      },
      "source": [
        "You'll notice that your grocery list already has some items, but you might need a few more things!\n",
        "\n",
        "We can simulate the process of gathering user input to add items to your grocery list. Imagine that you want to enter the following items into your grocery list: \"Kiwis\" and \"Raspberries\".\n",
        "\n",
        "Add \"Kiwis\" and \"Raspberries\" into the `items_to_add` list and then run the cell."
      ]
    },
    {
      "cell_type": "code",
      "execution_count": null,
      "id": "25ba8fb5-8cf8-4737-b3fb-fd4086a12c90",
      "metadata": {
        "id": "25ba8fb5-8cf8-4737-b3fb-fd4086a12c90"
      },
      "outputs": [],
      "source": [
        "# Add \"Kiwis\" and \"Raspberries\" to the list\n",
        "items_to_add = [\"insert code here\"]\n",
        "\n",
        "# Add items to the grocery list\n",
        "for item in items_to_add:\n",
        "    grocery_list.append(item)\n",
        "\n",
        "# Print the grocery list to see the added items\n",
        "print(grocery_list)\n"
      ]
    },
    {
      "cell_type": "markdown",
      "id": "008c79cb-e1f4-4889-8d1e-ebc3b0bbf5ce",
      "metadata": {
        "id": "008c79cb-e1f4-4889-8d1e-ebc3b0bbf5ce"
      },
      "source": [
        "Notice that \"Kiwis\" and \"Raspberries\" have been appended, or added, to the end of your grocery list.\n",
        "\n",
        "But what if you want to add a different item?\n",
        "\n",
        "Run the cell below, which will prompt you to input any item you want. Fill in the input box with your favorite grocery item and hit \"Enter\" on your keyboard."
      ]
    },
    {
      "cell_type": "code",
      "execution_count": null,
      "id": "f7c7e441-92f3-450d-9b50-a7afbdb33b79",
      "metadata": {
        "id": "f7c7e441-92f3-450d-9b50-a7afbdb33b79"
      },
      "outputs": [],
      "source": [
        "# 1. Get user input\n",
        "new_item = input(\"Enter an item to add to your grocery list: \")  # Ask the user for an item and store their input\n",
        "\n",
        "# 2. Add the item to the list\n",
        "grocery_list.append(new_item)  # Add the new item to the end of the grocery list\n",
        "\n",
        "# 3. Print the updated list\n",
        "print(\"Updated list:\", grocery_list)  # Show the user the updated grocery list"
      ]
    },
    {
      "cell_type": "markdown",
      "id": "d1591ad0-ea00-4df3-adc0-0dde410196ae",
      "metadata": {
        "id": "d1591ad0-ea00-4df3-adc0-0dde410196ae"
      },
      "source": [
        "Notice that your input above has now been added to your grocery list.\n",
        "\n",
        "Try adding some items to the `grocery_list` using the `append()` method.\n",
        "\n",
        "Add \"Cinnamon\" and \"Paprika\" to the `append()` method below and run the cell."
      ]
    },
    {
      "cell_type": "code",
      "execution_count": null,
      "id": "d42346a4-b72d-416a-8435-de192abd03ba",
      "metadata": {
        "id": "d42346a4-b72d-416a-8435-de192abd03ba"
      },
      "outputs": [],
      "source": [
        "# Add \"Cinnamon\" and \"Paprika\" to the grocery list\n",
        "grocery_list.append(\"insert code here\")\n",
        "grocery_list.append(\"insert code here\")\n",
        "\n",
        "# Print the updated grocery list\n",
        "print(\"\\nYour Updated Grocery List:\")\n",
        "print(grocery_list)\n"
      ]
    },
    {
      "cell_type": "markdown",
      "id": "87fa9efd-b2f0-476b-b8fe-3d04619172e5",
      "metadata": {
        "id": "87fa9efd-b2f0-476b-b8fe-3d04619172e5"
      },
      "source": [
        "Notice in the output above that you have now added several items to your grocery list in different ways.\n",
        "\n",
        "But you realize you already have something at home. How can you remove items from your `grocery_list`?\n",
        "\n",
        "For example, imagine you no longer need \"Eggs\" and \"Apples\". You can remove these items from the `grocery_list` using the `remove()` method.\n",
        "\n",
        "Add \"Eggs\" and \"Apples\" to the `remove()` method below and run the cell.\n"
      ]
    },
    {
      "cell_type": "code",
      "execution_count": null,
      "id": "43a57f89-0fbd-464c-93eb-25858bfe3150",
      "metadata": {
        "id": "43a57f89-0fbd-464c-93eb-25858bfe3150"
      },
      "outputs": [],
      "source": [
        "# Remove \"Eggs\" and \"Apples\" from the grocery list\n",
        "grocery_list.remove(\"insert code here\")\n",
        "grocery_list.remove(\"insert code here\")\n",
        "\n",
        "# Print the updated grocery list\n",
        "print(\"\\nYour Updated Grocery List (after removing items):\")\n",
        "print(grocery_list)"
      ]
    },
    {
      "cell_type": "markdown",
      "id": "d2542312-4dce-4182-ba13-a848d5355b73",
      "metadata": {
        "id": "d2542312-4dce-4182-ba13-a848d5355b73"
      },
      "source": [
        "Notice that in the updated grocery list, \"Eggs\" and \"Apples\" are now removed.\n",
        "\n",
        "Nice work! Your python-powered grocery list is complete!"
      ]
    },
    {
      "cell_type": "markdown",
      "id": "e6aa41c1-bbd6-4b58-a6a4-ea2332c4772b",
      "metadata": {
        "id": "e6aa41c1-bbd6-4b58-a6a4-ea2332c4772b"
      },
      "source": [
        "## Activity Recap: Never Forget the Milk Again: Your Python-Powered Grocery List\n",
        "\n",
        "Congratulations on successfully building your digital grocery list using Python! Let's recap the key concepts you've learned:\n",
        "\n",
        "* **Creating and Managing Lists:** You've created an empty list and dynamically added items to it, showcasing the flexibility of lists in Python.\n",
        "* **Adding and Removing Items:** You've used the `append()` method to add items and the `remove()` method to remove items from the list, demonstrating how to keep your list up-to-date.\n",
        "* **List Manipulation:** You've practiced essential list manipulation techniques, empowering you to organize and manage data effectively.\n"
      ]
    }
  ],
  "metadata": {
    "kernelspec": {
      "display_name": "base",
      "language": "python",
      "name": "python3"
    },
    "language_info": {
      "codemirror_mode": {
        "name": "ipython",
        "version": 3
      },
      "file_extension": ".py",
      "mimetype": "text/x-python",
      "name": "python",
      "nbconvert_exporter": "python",
      "pygments_lexer": "ipython3",
      "version": "3.12.7"
    },
    "colab": {
      "provenance": [],
      "include_colab_link": true
    }
  },
  "nbformat": 4,
  "nbformat_minor": 5
}